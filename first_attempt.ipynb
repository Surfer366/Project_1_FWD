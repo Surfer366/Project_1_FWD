{
 "cells": [
  {
   "cell_type": "markdown",
   "metadata": {},
   "source": [
    "# Project: Investigate a Dataset (FBI Gun data brief analysis)\n",
    "\n",
    "## Table of Contents\n",
    "<ul>\n",
    "<li><a href=\"#intro\">Introduction</a></li>\n",
    "<li><a href=\"#wrangling\">Data Wrangling</a></li>\n",
    "<li><a href=\"#eda\">Exploratory Data Analysis</a></li>\n",
    "<li><a href=\"#conclusions\">Conclusions</a></li>\n",
    "</ul>"
   ]
  },
  {
   "cell_type": "markdown",
   "metadata": {},
   "source": [
    "<a id='intro'></a>\n",
    "## Introduction\n",
    "\n",
    "> Data Description:\n",
    "The data comes from the FBI's National Instant Criminal Background Check System. The NICS is used by to determine whether a prospective buyer is eligible to buy firearms or explosives. Gun shops call into this system to ensure that each customer does not have a criminal record or isn’t otherwise ineligible to make a purchase. \n",
    "\n",
    ">\tThe NICS data is found in one sheet of an .xlsx file. It contains the number of firearms checks by month, state, and type. \n",
    ">\tThe U.S. census data is found in a .csv file. It contains several variables at the state level. Most variables just have one data point per state (2016), but a few have data for more than one year. \n",
    "\n",
    ">My reseach questions:\n",
    "\n",
    ">Is poverty related to gun purchases patterns?\n",
    "\n",
    ">What is the most popular gun type, and what are the implications of such?\n"
   ]
  },
  {
   "cell_type": "code",
   "execution_count": 1,
   "metadata": {},
   "outputs": [],
   "source": [
    "import pandas as pd\n",
    "import numpy as np\n",
    "import matplotlib.pyplot as plt\n",
    "%matplotlib inline\n",
    "import os"
   ]
  },
  {
   "cell_type": "markdown",
   "metadata": {},
   "source": [
    "<a id='wrangling'></a>\n",
    "## Data Wrangling\n",
    "\n",
    "\n",
    "### General Properties"
   ]
  },
  {
   "cell_type": "code",
   "execution_count": 2,
   "metadata": {},
   "outputs": [
    {
     "data": {
      "text/plain": [
       "'/Users/A.R/Desktop/surfer366/1_Coding_HUB/NanoDegree'"
      ]
     },
     "execution_count": 2,
     "metadata": {},
     "output_type": "execute_result"
    }
   ],
   "source": [
    "# print current working directory\n",
    "os.getcwd()"
   ]
  },
  {
   "cell_type": "code",
   "execution_count": 3,
   "metadata": {
    "scrolled": true
   },
   "outputs": [
    {
     "data": {
      "text/html": [
       "<div>\n",
       "<style scoped>\n",
       "    .dataframe tbody tr th:only-of-type {\n",
       "        vertical-align: middle;\n",
       "    }\n",
       "\n",
       "    .dataframe tbody tr th {\n",
       "        vertical-align: top;\n",
       "    }\n",
       "\n",
       "    .dataframe thead th {\n",
       "        text-align: right;\n",
       "    }\n",
       "</style>\n",
       "<table border=\"1\" class=\"dataframe\">\n",
       "  <thead>\n",
       "    <tr style=\"text-align: right;\">\n",
       "      <th></th>\n",
       "      <th>Fact</th>\n",
       "      <th>Fact Note</th>\n",
       "      <th>Alabama</th>\n",
       "      <th>Alaska</th>\n",
       "      <th>Arizona</th>\n",
       "      <th>Arkansas</th>\n",
       "      <th>California</th>\n",
       "      <th>Colorado</th>\n",
       "      <th>Connecticut</th>\n",
       "      <th>Delaware</th>\n",
       "      <th>...</th>\n",
       "      <th>South Dakota</th>\n",
       "      <th>Tennessee</th>\n",
       "      <th>Texas</th>\n",
       "      <th>Utah</th>\n",
       "      <th>Vermont</th>\n",
       "      <th>Virginia</th>\n",
       "      <th>Washington</th>\n",
       "      <th>West Virginia</th>\n",
       "      <th>Wisconsin</th>\n",
       "      <th>Wyoming</th>\n",
       "    </tr>\n",
       "  </thead>\n",
       "  <tbody>\n",
       "    <tr>\n",
       "      <th>0</th>\n",
       "      <td>Population estimates, July 1, 2016,  (V2016)</td>\n",
       "      <td>NaN</td>\n",
       "      <td>4,863,300</td>\n",
       "      <td>741,894</td>\n",
       "      <td>6,931,071</td>\n",
       "      <td>2,988,248</td>\n",
       "      <td>39,250,017</td>\n",
       "      <td>5,540,545</td>\n",
       "      <td>3,576,452</td>\n",
       "      <td>952,065</td>\n",
       "      <td>...</td>\n",
       "      <td>865454</td>\n",
       "      <td>6651194</td>\n",
       "      <td>27,862,596</td>\n",
       "      <td>3,051,217</td>\n",
       "      <td>624,594</td>\n",
       "      <td>8,411,808</td>\n",
       "      <td>7,288,000</td>\n",
       "      <td>1,831,102</td>\n",
       "      <td>5,778,708</td>\n",
       "      <td>585,501</td>\n",
       "    </tr>\n",
       "    <tr>\n",
       "      <th>1</th>\n",
       "      <td>Population estimates base, April 1, 2010,  (V2...</td>\n",
       "      <td>NaN</td>\n",
       "      <td>4,780,131</td>\n",
       "      <td>710,249</td>\n",
       "      <td>6,392,301</td>\n",
       "      <td>2,916,025</td>\n",
       "      <td>37,254,522</td>\n",
       "      <td>5,029,324</td>\n",
       "      <td>3,574,114</td>\n",
       "      <td>897,936</td>\n",
       "      <td>...</td>\n",
       "      <td>814195</td>\n",
       "      <td>6346298</td>\n",
       "      <td>25,146,100</td>\n",
       "      <td>2,763,888</td>\n",
       "      <td>625,741</td>\n",
       "      <td>8,001,041</td>\n",
       "      <td>6,724,545</td>\n",
       "      <td>1,853,011</td>\n",
       "      <td>5,687,289</td>\n",
       "      <td>563,767</td>\n",
       "    </tr>\n",
       "    <tr>\n",
       "      <th>2</th>\n",
       "      <td>Population, percent change - April 1, 2010 (es...</td>\n",
       "      <td>NaN</td>\n",
       "      <td>1.70%</td>\n",
       "      <td>4.50%</td>\n",
       "      <td>8.40%</td>\n",
       "      <td>2.50%</td>\n",
       "      <td>5.40%</td>\n",
       "      <td>10.20%</td>\n",
       "      <td>0.10%</td>\n",
       "      <td>6.00%</td>\n",
       "      <td>...</td>\n",
       "      <td>0.063</td>\n",
       "      <td>0.048</td>\n",
       "      <td>10.80%</td>\n",
       "      <td>10.40%</td>\n",
       "      <td>-0.20%</td>\n",
       "      <td>5.10%</td>\n",
       "      <td>8.40%</td>\n",
       "      <td>-1.20%</td>\n",
       "      <td>1.60%</td>\n",
       "      <td>3.90%</td>\n",
       "    </tr>\n",
       "    <tr>\n",
       "      <th>3</th>\n",
       "      <td>Population, Census, April 1, 2010</td>\n",
       "      <td>NaN</td>\n",
       "      <td>4,779,736</td>\n",
       "      <td>710,231</td>\n",
       "      <td>6,392,017</td>\n",
       "      <td>2,915,918</td>\n",
       "      <td>37,253,956</td>\n",
       "      <td>5,029,196</td>\n",
       "      <td>3,574,097</td>\n",
       "      <td>897,934</td>\n",
       "      <td>...</td>\n",
       "      <td>814180</td>\n",
       "      <td>6346105</td>\n",
       "      <td>25,145,561</td>\n",
       "      <td>2,763,885</td>\n",
       "      <td>625,741</td>\n",
       "      <td>8,001,024</td>\n",
       "      <td>6,724,540</td>\n",
       "      <td>1,852,994</td>\n",
       "      <td>5,686,986</td>\n",
       "      <td>563,626</td>\n",
       "    </tr>\n",
       "    <tr>\n",
       "      <th>4</th>\n",
       "      <td>Persons under 5 years, percent, July 1, 2016, ...</td>\n",
       "      <td>NaN</td>\n",
       "      <td>6.00%</td>\n",
       "      <td>7.30%</td>\n",
       "      <td>6.30%</td>\n",
       "      <td>6.40%</td>\n",
       "      <td>6.30%</td>\n",
       "      <td>6.10%</td>\n",
       "      <td>5.20%</td>\n",
       "      <td>5.80%</td>\n",
       "      <td>...</td>\n",
       "      <td>0.071</td>\n",
       "      <td>0.061</td>\n",
       "      <td>7.20%</td>\n",
       "      <td>8.30%</td>\n",
       "      <td>4.90%</td>\n",
       "      <td>6.10%</td>\n",
       "      <td>6.20%</td>\n",
       "      <td>5.50%</td>\n",
       "      <td>5.80%</td>\n",
       "      <td>6.50%</td>\n",
       "    </tr>\n",
       "  </tbody>\n",
       "</table>\n",
       "<p>5 rows × 52 columns</p>\n",
       "</div>"
      ],
      "text/plain": [
       "                                                Fact Fact Note    Alabama  \\\n",
       "0       Population estimates, July 1, 2016,  (V2016)       NaN  4,863,300   \n",
       "1  Population estimates base, April 1, 2010,  (V2...       NaN  4,780,131   \n",
       "2  Population, percent change - April 1, 2010 (es...       NaN      1.70%   \n",
       "3                  Population, Census, April 1, 2010       NaN  4,779,736   \n",
       "4  Persons under 5 years, percent, July 1, 2016, ...       NaN      6.00%   \n",
       "\n",
       "    Alaska    Arizona   Arkansas  California   Colorado Connecticut Delaware  \\\n",
       "0  741,894  6,931,071  2,988,248  39,250,017  5,540,545   3,576,452  952,065   \n",
       "1  710,249  6,392,301  2,916,025  37,254,522  5,029,324   3,574,114  897,936   \n",
       "2    4.50%      8.40%      2.50%       5.40%     10.20%       0.10%    6.00%   \n",
       "3  710,231  6,392,017  2,915,918  37,253,956  5,029,196   3,574,097  897,934   \n",
       "4    7.30%      6.30%      6.40%       6.30%      6.10%       5.20%    5.80%   \n",
       "\n",
       "   ... South Dakota Tennessee       Texas       Utah  Vermont   Virginia  \\\n",
       "0  ...       865454   6651194  27,862,596  3,051,217  624,594  8,411,808   \n",
       "1  ...       814195   6346298  25,146,100  2,763,888  625,741  8,001,041   \n",
       "2  ...        0.063     0.048      10.80%     10.40%   -0.20%      5.10%   \n",
       "3  ...       814180   6346105  25,145,561  2,763,885  625,741  8,001,024   \n",
       "4  ...        0.071     0.061       7.20%      8.30%    4.90%      6.10%   \n",
       "\n",
       "  Washington West Virginia  Wisconsin  Wyoming  \n",
       "0  7,288,000     1,831,102  5,778,708  585,501  \n",
       "1  6,724,545     1,853,011  5,687,289  563,767  \n",
       "2      8.40%        -1.20%      1.60%    3.90%  \n",
       "3  6,724,540     1,852,994  5,686,986  563,626  \n",
       "4      6.20%         5.50%      5.80%    6.50%  \n",
       "\n",
       "[5 rows x 52 columns]"
      ]
     },
     "execution_count": 3,
     "metadata": {},
     "output_type": "execute_result"
    }
   ],
   "source": [
    "census_data = pd.read_csv('/Users/A.R/Desktop/surfer366/1_Coding_HUB/NanoDegree/ncis-and-census-data/U.S. Census Data.csv')\n",
    "census_data.head(5)"
   ]
  },
  {
   "cell_type": "code",
   "execution_count": 4,
   "metadata": {},
   "outputs": [
    {
     "data": {
      "text/plain": [
       "(85, 52)"
      ]
     },
     "execution_count": 4,
     "metadata": {},
     "output_type": "execute_result"
    }
   ],
   "source": [
    "census_data.shape"
   ]
  },
  {
   "cell_type": "markdown",
   "metadata": {},
   "source": [
    "## Observations\n",
    ">This data has numeric values saved as strings, will need to extract it as dtype float, since some of the values are in percentage terms.\n",
    "It would not be a wise idea to drop NA rows, since that presents 20% or more of the dataset\n",
    "The 2nd column in the dataset could be deemed unnecessary"
   ]
  },
  {
   "cell_type": "code",
   "execution_count": 5,
   "metadata": {},
   "outputs": [],
   "source": [
    "# dropping the second column of fact note\n",
    "census_data.drop(columns=['Fact Note'], inplace=True) "
   ]
  },
  {
   "cell_type": "code",
   "execution_count": 6,
   "metadata": {},
   "outputs": [
    {
     "name": "stdout",
     "output_type": "stream",
     "text": [
      "<class 'pandas.core.frame.DataFrame'>\n",
      "RangeIndex: 85 entries, 0 to 84\n",
      "Data columns (total 51 columns):\n",
      " #   Column          Non-Null Count  Dtype \n",
      "---  ------          --------------  ----- \n",
      " 0   Fact            80 non-null     object\n",
      " 1   Alabama         65 non-null     object\n",
      " 2   Alaska          65 non-null     object\n",
      " 3   Arizona         65 non-null     object\n",
      " 4   Arkansas        65 non-null     object\n",
      " 5   California      65 non-null     object\n",
      " 6   Colorado        65 non-null     object\n",
      " 7   Connecticut     65 non-null     object\n",
      " 8   Delaware        65 non-null     object\n",
      " 9   Florida         65 non-null     object\n",
      " 10  Georgia         65 non-null     object\n",
      " 11  Hawaii          65 non-null     object\n",
      " 12  Idaho           65 non-null     object\n",
      " 13  Illinois        65 non-null     object\n",
      " 14  Indiana         65 non-null     object\n",
      " 15  Iowa            65 non-null     object\n",
      " 16  Kansas          65 non-null     object\n",
      " 17  Kentucky        65 non-null     object\n",
      " 18  Louisiana       65 non-null     object\n",
      " 19  Maine           65 non-null     object\n",
      " 20  Maryland        65 non-null     object\n",
      " 21  Massachusetts   65 non-null     object\n",
      " 22  Michigan        65 non-null     object\n",
      " 23  Minnesota       65 non-null     object\n",
      " 24  Mississippi     65 non-null     object\n",
      " 25  Missouri        65 non-null     object\n",
      " 26  Montana         65 non-null     object\n",
      " 27  Nebraska        65 non-null     object\n",
      " 28  Nevada          65 non-null     object\n",
      " 29  New Hampshire   65 non-null     object\n",
      " 30  New Jersey      65 non-null     object\n",
      " 31  New Mexico      65 non-null     object\n",
      " 32  New York        65 non-null     object\n",
      " 33  North Carolina  65 non-null     object\n",
      " 34  North Dakota    65 non-null     object\n",
      " 35  Ohio            65 non-null     object\n",
      " 36  Oklahoma        65 non-null     object\n",
      " 37  Oregon          65 non-null     object\n",
      " 38  Pennsylvania    65 non-null     object\n",
      " 39  Rhode Island    65 non-null     object\n",
      " 40  South Carolina  65 non-null     object\n",
      " 41  South Dakota    65 non-null     object\n",
      " 42  Tennessee       65 non-null     object\n",
      " 43  Texas           65 non-null     object\n",
      " 44  Utah            65 non-null     object\n",
      " 45  Vermont         65 non-null     object\n",
      " 46  Virginia        65 non-null     object\n",
      " 47  Washington      65 non-null     object\n",
      " 48  West Virginia   65 non-null     object\n",
      " 49  Wisconsin       65 non-null     object\n",
      " 50  Wyoming         65 non-null     object\n",
      "dtypes: object(51)\n",
      "memory usage: 34.0+ KB\n"
     ]
    }
   ],
   "source": [
    "census_data.info()"
   ]
  },
  {
   "cell_type": "code",
   "execution_count": 7,
   "metadata": {},
   "outputs": [
    {
     "data": {
      "text/plain": [
       "str"
      ]
     },
     "execution_count": 7,
     "metadata": {},
     "output_type": "execute_result"
    }
   ],
   "source": [
    "type(census_data['Arizona'][0])"
   ]
  },
  {
   "cell_type": "code",
   "execution_count": 8,
   "metadata": {},
   "outputs": [
    {
     "data": {
      "text/plain": [
       "array([ 5, 20, 20, 20, 20, 20, 20, 20, 20, 20, 20, 20, 20, 20, 20, 20, 20,\n",
       "       20, 20, 20, 20, 20, 20, 20, 20, 20, 20, 20, 20, 20, 20, 20, 20, 20,\n",
       "       20, 20, 20, 20, 20, 20, 20, 20, 20, 20, 20, 20, 20, 20, 20, 20, 20])"
      ]
     },
     "execution_count": 8,
     "metadata": {},
     "output_type": "execute_result"
    }
   ],
   "source": [
    "# which columns contain null values?\n",
    "census_data.isnull().sum().values"
   ]
  },
  {
   "cell_type": "code",
   "execution_count": 9,
   "metadata": {
    "scrolled": true
   },
   "outputs": [
    {
     "data": {
      "text/html": [
       "<div>\n",
       "<style scoped>\n",
       "    .dataframe tbody tr th:only-of-type {\n",
       "        vertical-align: middle;\n",
       "    }\n",
       "\n",
       "    .dataframe tbody tr th {\n",
       "        vertical-align: top;\n",
       "    }\n",
       "\n",
       "    .dataframe thead th {\n",
       "        text-align: right;\n",
       "    }\n",
       "</style>\n",
       "<table border=\"1\" class=\"dataframe\">\n",
       "  <thead>\n",
       "    <tr style=\"text-align: right;\">\n",
       "      <th></th>\n",
       "      <th>Fact</th>\n",
       "      <th>Alabama</th>\n",
       "      <th>Alaska</th>\n",
       "      <th>Arizona</th>\n",
       "      <th>Arkansas</th>\n",
       "      <th>California</th>\n",
       "      <th>Colorado</th>\n",
       "      <th>Connecticut</th>\n",
       "      <th>Delaware</th>\n",
       "      <th>Florida</th>\n",
       "      <th>...</th>\n",
       "      <th>South Dakota</th>\n",
       "      <th>Tennessee</th>\n",
       "      <th>Texas</th>\n",
       "      <th>Utah</th>\n",
       "      <th>Vermont</th>\n",
       "      <th>Virginia</th>\n",
       "      <th>Washington</th>\n",
       "      <th>West Virginia</th>\n",
       "      <th>Wisconsin</th>\n",
       "      <th>Wyoming</th>\n",
       "    </tr>\n",
       "  </thead>\n",
       "  <tbody>\n",
       "    <tr>\n",
       "      <th>count</th>\n",
       "      <td>80</td>\n",
       "      <td>65</td>\n",
       "      <td>65</td>\n",
       "      <td>65</td>\n",
       "      <td>65</td>\n",
       "      <td>65</td>\n",
       "      <td>65</td>\n",
       "      <td>65</td>\n",
       "      <td>65</td>\n",
       "      <td>65</td>\n",
       "      <td>...</td>\n",
       "      <td>65</td>\n",
       "      <td>65</td>\n",
       "      <td>65</td>\n",
       "      <td>65</td>\n",
       "      <td>65</td>\n",
       "      <td>65</td>\n",
       "      <td>65</td>\n",
       "      <td>65</td>\n",
       "      <td>65</td>\n",
       "      <td>65</td>\n",
       "    </tr>\n",
       "    <tr>\n",
       "      <th>unique</th>\n",
       "      <td>80</td>\n",
       "      <td>65</td>\n",
       "      <td>64</td>\n",
       "      <td>64</td>\n",
       "      <td>64</td>\n",
       "      <td>63</td>\n",
       "      <td>64</td>\n",
       "      <td>63</td>\n",
       "      <td>64</td>\n",
       "      <td>64</td>\n",
       "      <td>...</td>\n",
       "      <td>65</td>\n",
       "      <td>64</td>\n",
       "      <td>64</td>\n",
       "      <td>64</td>\n",
       "      <td>63</td>\n",
       "      <td>65</td>\n",
       "      <td>65</td>\n",
       "      <td>64</td>\n",
       "      <td>65</td>\n",
       "      <td>64</td>\n",
       "    </tr>\n",
       "    <tr>\n",
       "      <th>top</th>\n",
       "      <td>Native Hawaiian and Other Pacific Islander alo...</td>\n",
       "      <td>26,039,632</td>\n",
       "      <td>7.30%</td>\n",
       "      <td>50.30%</td>\n",
       "      <td>50.90%</td>\n",
       "      <td>6.80%</td>\n",
       "      <td>3.30%</td>\n",
       "      <td>0.10%</td>\n",
       "      <td>51.60%</td>\n",
       "      <td>51.10%</td>\n",
       "      <td>...</td>\n",
       "      <td>\"46\"</td>\n",
       "      <td>0.048</td>\n",
       "      <td>50.40%</td>\n",
       "      <td>2.50%</td>\n",
       "      <td>1.90%</td>\n",
       "      <td>110,002,385</td>\n",
       "      <td>$61,062</td>\n",
       "      <td>1.50%</td>\n",
       "      <td>8.20%</td>\n",
       "      <td>7.10%</td>\n",
       "    </tr>\n",
       "    <tr>\n",
       "      <th>freq</th>\n",
       "      <td>1</td>\n",
       "      <td>1</td>\n",
       "      <td>2</td>\n",
       "      <td>2</td>\n",
       "      <td>2</td>\n",
       "      <td>2</td>\n",
       "      <td>2</td>\n",
       "      <td>2</td>\n",
       "      <td>2</td>\n",
       "      <td>2</td>\n",
       "      <td>...</td>\n",
       "      <td>1</td>\n",
       "      <td>2</td>\n",
       "      <td>2</td>\n",
       "      <td>2</td>\n",
       "      <td>2</td>\n",
       "      <td>1</td>\n",
       "      <td>1</td>\n",
       "      <td>2</td>\n",
       "      <td>1</td>\n",
       "      <td>2</td>\n",
       "    </tr>\n",
       "  </tbody>\n",
       "</table>\n",
       "<p>4 rows × 51 columns</p>\n",
       "</div>"
      ],
      "text/plain": [
       "                                                     Fact     Alabama Alaska  \\\n",
       "count                                                  80          65     65   \n",
       "unique                                                 80          65     64   \n",
       "top     Native Hawaiian and Other Pacific Islander alo...  26,039,632  7.30%   \n",
       "freq                                                    1           1      2   \n",
       "\n",
       "       Arizona Arkansas California Colorado Connecticut Delaware Florida  ...  \\\n",
       "count       65       65         65       65          65       65      65  ...   \n",
       "unique      64       64         63       64          63       64      64  ...   \n",
       "top     50.30%   50.90%      6.80%    3.30%       0.10%   51.60%  51.10%  ...   \n",
       "freq         2        2          2        2           2        2       2  ...   \n",
       "\n",
       "       South Dakota Tennessee   Texas   Utah Vermont     Virginia Washington  \\\n",
       "count            65        65      65     65      65           65         65   \n",
       "unique           65        64      64     64      63           65         65   \n",
       "top            \"46\"     0.048  50.40%  2.50%   1.90%  110,002,385   $61,062    \n",
       "freq              1         2       2      2       2            1          1   \n",
       "\n",
       "       West Virginia Wisconsin Wyoming  \n",
       "count             65        65      65  \n",
       "unique            64        65      64  \n",
       "top            1.50%     8.20%   7.10%  \n",
       "freq               2         1       2  \n",
       "\n",
       "[4 rows x 51 columns]"
      ]
     },
     "execution_count": 9,
     "metadata": {},
     "output_type": "execute_result"
    }
   ],
   "source": [
    "# yeilds a different output to the usual summary statistics, since every column represents a different entity\n",
    "census_data.describe()"
   ]
  },
  {
   "cell_type": "code",
   "execution_count": 10,
   "metadata": {},
   "outputs": [
    {
     "data": {
      "text/plain": [
       "True"
      ]
     },
     "execution_count": 10,
     "metadata": {},
     "output_type": "execute_result"
    }
   ],
   "source": [
    "# check for duplicates in the dataset\n",
    "census_data.duplicated().any()"
   ]
  },
  {
   "cell_type": "code",
   "execution_count": 11,
   "metadata": {},
   "outputs": [
    {
     "data": {
      "text/plain": [
       "0"
      ]
     },
     "execution_count": 11,
     "metadata": {},
     "output_type": "execute_result"
    }
   ],
   "source": [
    "census_data.drop_duplicates(inplace=True)\n",
    "census_data.duplicated().sum()"
   ]
  },
  {
   "cell_type": "code",
   "execution_count": 12,
   "metadata": {},
   "outputs": [
    {
     "name": "stdout",
     "output_type": "stream",
     "text": [
      "<class 'pandas.core.frame.DataFrame'>\n",
      "Int64Index: 81 entries, 0 to 84\n",
      "Data columns (total 51 columns):\n",
      " #   Column          Non-Null Count  Dtype  \n",
      "---  ------          --------------  -----  \n",
      " 0   Fact            80 non-null     object \n",
      " 1   Alabama         65 non-null     float64\n",
      " 2   Alaska          64 non-null     float64\n",
      " 3   Arizona         65 non-null     float64\n",
      " 4   Arkansas        65 non-null     float64\n",
      " 5   California      65 non-null     float64\n",
      " 6   Colorado        65 non-null     float64\n",
      " 7   Connecticut     65 non-null     float64\n",
      " 8   Delaware        65 non-null     float64\n",
      " 9   Florida         65 non-null     float64\n",
      " 10  Georgia         65 non-null     float64\n",
      " 11  Hawaii          64 non-null     float64\n",
      " 12  Idaho           65 non-null     float64\n",
      " 13  Illinois        65 non-null     float64\n",
      " 14  Indiana         65 non-null     float64\n",
      " 15  Iowa            65 non-null     float64\n",
      " 16  Kansas          65 non-null     float64\n",
      " 17  Kentucky        65 non-null     float64\n",
      " 18  Louisiana       65 non-null     float64\n",
      " 19  Maine           64 non-null     float64\n",
      " 20  Maryland        65 non-null     float64\n",
      " 21  Massachusetts   65 non-null     float64\n",
      " 22  Michigan        64 non-null     float64\n",
      " 23  Minnesota       65 non-null     float64\n",
      " 24  Mississippi     65 non-null     float64\n",
      " 25  Missouri        65 non-null     float64\n",
      " 26  Montana         65 non-null     float64\n",
      " 27  Nebraska        65 non-null     float64\n",
      " 28  Nevada          65 non-null     float64\n",
      " 29  New Hampshire   65 non-null     float64\n",
      " 30  New Jersey      65 non-null     float64\n",
      " 31  New Mexico      65 non-null     float64\n",
      " 32  New York        65 non-null     float64\n",
      " 33  North Carolina  65 non-null     float64\n",
      " 34  North Dakota    65 non-null     float64\n",
      " 35  Ohio            65 non-null     float64\n",
      " 36  Oklahoma        65 non-null     float64\n",
      " 37  Oregon          65 non-null     float64\n",
      " 38  Pennsylvania    65 non-null     float64\n",
      " 39  Rhode Island    65 non-null     float64\n",
      " 40  South Carolina  65 non-null     float64\n",
      " 41  South Dakota    65 non-null     float64\n",
      " 42  Tennessee       65 non-null     float64\n",
      " 43  Texas           65 non-null     float64\n",
      " 44  Utah            65 non-null     float64\n",
      " 45  Vermont         64 non-null     float64\n",
      " 46  Virginia        65 non-null     float64\n",
      " 47  Washington      65 non-null     float64\n",
      " 48  West Virginia   64 non-null     float64\n",
      " 49  Wisconsin       65 non-null     float64\n",
      " 50  Wyoming         64 non-null     float64\n",
      "dtypes: float64(50), object(1)\n",
      "memory usage: 32.9+ KB\n"
     ]
    }
   ],
   "source": [
    "# loop for excatrcing floats from all str columns and save changes\n",
    "\n",
    "cols = census_data.iloc[:,1:].columns\n",
    "for c in cols:\n",
    "    census_data[c] = census_data[c].str.extract('(\\d+)').astype(float)\n",
    "    \n",
    "# comfirm changes\n",
    "census_data.info()"
   ]
  },
  {
   "cell_type": "code",
   "execution_count": 13,
   "metadata": {},
   "outputs": [
    {
     "data": {
      "text/html": [
       "<div>\n",
       "<style scoped>\n",
       "    .dataframe tbody tr th:only-of-type {\n",
       "        vertical-align: middle;\n",
       "    }\n",
       "\n",
       "    .dataframe tbody tr th {\n",
       "        vertical-align: top;\n",
       "    }\n",
       "\n",
       "    .dataframe thead th {\n",
       "        text-align: right;\n",
       "    }\n",
       "</style>\n",
       "<table border=\"1\" class=\"dataframe\">\n",
       "  <thead>\n",
       "    <tr style=\"text-align: right;\">\n",
       "      <th></th>\n",
       "      <th>Fact</th>\n",
       "      <th>Alabama</th>\n",
       "      <th>Alaska</th>\n",
       "      <th>Arizona</th>\n",
       "      <th>Arkansas</th>\n",
       "      <th>California</th>\n",
       "      <th>Colorado</th>\n",
       "      <th>Connecticut</th>\n",
       "      <th>Delaware</th>\n",
       "      <th>Florida</th>\n",
       "      <th>...</th>\n",
       "      <th>South Dakota</th>\n",
       "      <th>Tennessee</th>\n",
       "      <th>Texas</th>\n",
       "      <th>Utah</th>\n",
       "      <th>Vermont</th>\n",
       "      <th>Virginia</th>\n",
       "      <th>Washington</th>\n",
       "      <th>West Virginia</th>\n",
       "      <th>Wisconsin</th>\n",
       "      <th>Wyoming</th>\n",
       "    </tr>\n",
       "  </thead>\n",
       "  <tbody>\n",
       "    <tr>\n",
       "      <th>0</th>\n",
       "      <td>Population estimates, July 1, 2016,  (V2016)</td>\n",
       "      <td>4.0</td>\n",
       "      <td>741.0</td>\n",
       "      <td>6.0</td>\n",
       "      <td>2.0</td>\n",
       "      <td>39.0</td>\n",
       "      <td>5.0</td>\n",
       "      <td>3.0</td>\n",
       "      <td>952.0</td>\n",
       "      <td>20.0</td>\n",
       "      <td>...</td>\n",
       "      <td>865454.0</td>\n",
       "      <td>6651194.0</td>\n",
       "      <td>27.0</td>\n",
       "      <td>3.0</td>\n",
       "      <td>624.0</td>\n",
       "      <td>8.0</td>\n",
       "      <td>7.0</td>\n",
       "      <td>1.0</td>\n",
       "      <td>5.0</td>\n",
       "      <td>585.0</td>\n",
       "    </tr>\n",
       "    <tr>\n",
       "      <th>1</th>\n",
       "      <td>Population estimates base, April 1, 2010,  (V2...</td>\n",
       "      <td>4.0</td>\n",
       "      <td>710.0</td>\n",
       "      <td>6.0</td>\n",
       "      <td>2.0</td>\n",
       "      <td>37.0</td>\n",
       "      <td>5.0</td>\n",
       "      <td>3.0</td>\n",
       "      <td>897.0</td>\n",
       "      <td>18.0</td>\n",
       "      <td>...</td>\n",
       "      <td>814195.0</td>\n",
       "      <td>6346298.0</td>\n",
       "      <td>25.0</td>\n",
       "      <td>2.0</td>\n",
       "      <td>625.0</td>\n",
       "      <td>8.0</td>\n",
       "      <td>6.0</td>\n",
       "      <td>1.0</td>\n",
       "      <td>5.0</td>\n",
       "      <td>563.0</td>\n",
       "    </tr>\n",
       "    <tr>\n",
       "      <th>2</th>\n",
       "      <td>Population, percent change - April 1, 2010 (es...</td>\n",
       "      <td>1.0</td>\n",
       "      <td>4.0</td>\n",
       "      <td>8.0</td>\n",
       "      <td>2.0</td>\n",
       "      <td>5.0</td>\n",
       "      <td>10.0</td>\n",
       "      <td>0.0</td>\n",
       "      <td>6.0</td>\n",
       "      <td>9.0</td>\n",
       "      <td>...</td>\n",
       "      <td>0.0</td>\n",
       "      <td>0.0</td>\n",
       "      <td>10.0</td>\n",
       "      <td>10.0</td>\n",
       "      <td>0.0</td>\n",
       "      <td>5.0</td>\n",
       "      <td>8.0</td>\n",
       "      <td>1.0</td>\n",
       "      <td>1.0</td>\n",
       "      <td>3.0</td>\n",
       "    </tr>\n",
       "    <tr>\n",
       "      <th>3</th>\n",
       "      <td>Population, Census, April 1, 2010</td>\n",
       "      <td>4.0</td>\n",
       "      <td>710.0</td>\n",
       "      <td>6.0</td>\n",
       "      <td>2.0</td>\n",
       "      <td>37.0</td>\n",
       "      <td>5.0</td>\n",
       "      <td>3.0</td>\n",
       "      <td>897.0</td>\n",
       "      <td>18.0</td>\n",
       "      <td>...</td>\n",
       "      <td>814180.0</td>\n",
       "      <td>6346105.0</td>\n",
       "      <td>25.0</td>\n",
       "      <td>2.0</td>\n",
       "      <td>625.0</td>\n",
       "      <td>8.0</td>\n",
       "      <td>6.0</td>\n",
       "      <td>1.0</td>\n",
       "      <td>5.0</td>\n",
       "      <td>563.0</td>\n",
       "    </tr>\n",
       "    <tr>\n",
       "      <th>4</th>\n",
       "      <td>Persons under 5 years, percent, July 1, 2016, ...</td>\n",
       "      <td>6.0</td>\n",
       "      <td>7.0</td>\n",
       "      <td>6.0</td>\n",
       "      <td>6.0</td>\n",
       "      <td>6.0</td>\n",
       "      <td>6.0</td>\n",
       "      <td>5.0</td>\n",
       "      <td>5.0</td>\n",
       "      <td>5.0</td>\n",
       "      <td>...</td>\n",
       "      <td>0.0</td>\n",
       "      <td>0.0</td>\n",
       "      <td>7.0</td>\n",
       "      <td>8.0</td>\n",
       "      <td>4.0</td>\n",
       "      <td>6.0</td>\n",
       "      <td>6.0</td>\n",
       "      <td>5.0</td>\n",
       "      <td>5.0</td>\n",
       "      <td>6.0</td>\n",
       "    </tr>\n",
       "  </tbody>\n",
       "</table>\n",
       "<p>5 rows × 51 columns</p>\n",
       "</div>"
      ],
      "text/plain": [
       "                                                Fact  Alabama  Alaska  \\\n",
       "0       Population estimates, July 1, 2016,  (V2016)      4.0   741.0   \n",
       "1  Population estimates base, April 1, 2010,  (V2...      4.0   710.0   \n",
       "2  Population, percent change - April 1, 2010 (es...      1.0     4.0   \n",
       "3                  Population, Census, April 1, 2010      4.0   710.0   \n",
       "4  Persons under 5 years, percent, July 1, 2016, ...      6.0     7.0   \n",
       "\n",
       "   Arizona  Arkansas  California  Colorado  Connecticut  Delaware  Florida  \\\n",
       "0      6.0       2.0        39.0       5.0          3.0     952.0     20.0   \n",
       "1      6.0       2.0        37.0       5.0          3.0     897.0     18.0   \n",
       "2      8.0       2.0         5.0      10.0          0.0       6.0      9.0   \n",
       "3      6.0       2.0        37.0       5.0          3.0     897.0     18.0   \n",
       "4      6.0       6.0         6.0       6.0          5.0       5.0      5.0   \n",
       "\n",
       "   ...  South Dakota  Tennessee  Texas  Utah  Vermont  Virginia  Washington  \\\n",
       "0  ...      865454.0  6651194.0   27.0   3.0    624.0       8.0         7.0   \n",
       "1  ...      814195.0  6346298.0   25.0   2.0    625.0       8.0         6.0   \n",
       "2  ...           0.0        0.0   10.0  10.0      0.0       5.0         8.0   \n",
       "3  ...      814180.0  6346105.0   25.0   2.0    625.0       8.0         6.0   \n",
       "4  ...           0.0        0.0    7.0   8.0      4.0       6.0         6.0   \n",
       "\n",
       "   West Virginia  Wisconsin  Wyoming  \n",
       "0            1.0        5.0    585.0  \n",
       "1            1.0        5.0    563.0  \n",
       "2            1.0        1.0      3.0  \n",
       "3            1.0        5.0    563.0  \n",
       "4            5.0        5.0      6.0  \n",
       "\n",
       "[5 rows x 51 columns]"
      ]
     },
     "execution_count": 13,
     "metadata": {},
     "output_type": "execute_result"
    }
   ],
   "source": [
    "census_data.head(5)"
   ]
  },
  {
   "cell_type": "code",
   "execution_count": 14,
   "metadata": {},
   "outputs": [
    {
     "data": {
      "text/plain": [
       "array([ 1, 16, 17, 16, 16, 16, 16, 16, 16, 16, 16, 17, 16, 16, 16, 16, 16,\n",
       "       16, 16, 17, 16, 16, 17, 16, 16, 16, 16, 16, 16, 16, 16, 16, 16, 16,\n",
       "       16, 16, 16, 16, 16, 16, 16, 16, 16, 16, 16, 17, 16, 16, 17, 16, 17])"
      ]
     },
     "execution_count": 14,
     "metadata": {},
     "output_type": "execute_result"
    }
   ],
   "source": [
    "# minus the 4 dropped duplicated rows\n",
    "census_data.isna().sum().values"
   ]
  },
  {
   "cell_type": "code",
   "execution_count": 15,
   "metadata": {},
   "outputs": [],
   "source": [
    "# Replace the all NaN in df with 'Record NA' \n",
    "census_data.fillna('Record NA', inplace = True)"
   ]
  },
  {
   "cell_type": "code",
   "execution_count": 16,
   "metadata": {},
   "outputs": [
    {
     "data": {
      "text/plain": [
       "False"
      ]
     },
     "execution_count": 16,
     "metadata": {},
     "output_type": "execute_result"
    }
   ],
   "source": [
    "# Confirm changes \n",
    "census_data.isnull().any().any()"
   ]
  },
  {
   "cell_type": "code",
   "execution_count": 29,
   "metadata": {},
   "outputs": [
    {
     "name": "stdout",
     "output_type": "stream",
     "text": [
      "0 Population estimates, July 1, 2016,  (V2016)\n",
      "1 Population estimates base, April 1, 2010,  (V2016)\n",
      "2 Population, percent change - April 1, 2010 (estimates base) to July 1, 2016,  (V2016)\n",
      "3 Population, Census, April 1, 2010\n",
      "4 Persons under 5 years, percent, July 1, 2016,  (V2016)\n",
      "5 Persons under 5 years, percent, April 1, 2010\n",
      "6 Persons under 18 years, percent, July 1, 2016,  (V2016)\n",
      "7 Persons under 18 years, percent, April 1, 2010\n",
      "8 Persons 65 years and over, percent,  July 1, 2016,  (V2016)\n",
      "9 Persons 65 years and over, percent, April 1, 2010\n",
      "10 Female persons, percent,  July 1, 2016,  (V2016)\n",
      "11 Female persons, percent, April 1, 2010\n",
      "12 White alone, percent, July 1, 2016,  (V2016)\n",
      "13 Black or African American alone, percent, July 1, 2016,  (V2016)\n",
      "14 American Indian and Alaska Native alone, percent, July 1, 2016,  (V2016)\n",
      "15 Asian alone, percent, July 1, 2016,  (V2016)\n",
      "16 Native Hawaiian and Other Pacific Islander alone, percent, July 1, 2016,  (V2016)\n",
      "17 Two or More Races, percent, July 1, 2016,  (V2016)\n",
      "18 Hispanic or Latino, percent, July 1, 2016,  (V2016)\n",
      "19 White alone, not Hispanic or Latino, percent, July 1, 2016,  (V2016)\n",
      "20 Veterans, 2011-2015\n",
      "21 Foreign born persons, percent, 2011-2015\n",
      "22 Housing units,  July 1, 2016,  (V2016)\n",
      "23 Housing units, April 1, 2010\n",
      "24 Owner-occupied housing unit rate, 2011-2015\n",
      "25 Median value of owner-occupied housing units, 2011-2015\n",
      "26 Median selected monthly owner costs -with a mortgage, 2011-2015\n",
      "27 Median selected monthly owner costs -without a mortgage, 2011-2015\n",
      "28 Median gross rent, 2011-2015\n",
      "29 Building permits, 2016\n",
      "30 Households, 2011-2015\n",
      "31 Persons per household, 2011-2015\n",
      "32 Living in same house 1 year ago, percent of persons age 1 year+, 2011-2015\n",
      "33 Language other than English spoken at home, percent of persons age 5 years+, 2011-2015\n",
      "34 High school graduate or higher, percent of persons age 25 years+, 2011-2015\n",
      "35 Bachelor's degree or higher, percent of persons age 25 years+, 2011-2015\n",
      "36 With a disability, under age 65 years, percent, 2011-2015\n",
      "37 Persons  without health insurance, under age 65 years, percent\n",
      "38 In civilian labor force, total, percent of population age 16 years+, 2011-2015\n",
      "39 In civilian labor force, female, percent of population age 16 years+, 2011-2015\n",
      "40 Total accommodation and food services sales, 2012 ($1,000)\n",
      "41 Total health care and social assistance receipts/revenue, 2012 ($1,000)\n",
      "42 Total manufacturers shipments, 2012 ($1,000)\n",
      "43 Total merchant wholesaler sales, 2012 ($1,000)\n",
      "44 Total retail sales, 2012 ($1,000)\n",
      "45 Total retail sales per capita, 2012\n",
      "46 Mean travel time to work (minutes), workers age 16 years+, 2011-2015\n",
      "47 Median household income (in 2015 dollars), 2011-2015\n",
      "48 Per capita income in past 12 months (in 2015 dollars), 2011-2015\n",
      "49 Persons in poverty, percent\n",
      "50 Total employer establishments, 2015\n",
      "51 Total employment, 2015\n",
      "52 Total annual payroll, 2015 ($1,000)\n",
      "53 Total employment, percent change, 2014-2015\n",
      "54 Total nonemployer establishments, 2015\n",
      "55 All firms, 2012\n",
      "56 Men-owned firms, 2012\n",
      "57 Women-owned firms, 2012\n",
      "58 Minority-owned firms, 2012\n",
      "59 Nonminority-owned firms, 2012\n",
      "60 Veteran-owned firms, 2012\n",
      "61 Nonveteran-owned firms, 2012\n",
      "62 Population per square mile, 2010\n",
      "63 Land area in square miles, 2010\n",
      "64 FIPS Code\n",
      "65 Record NA\n",
      "66 NOTE: FIPS Code values are enclosed in quotes to ensure leading zeros remain intact.\n",
      "67 Value Notes\n",
      "68 1\n",
      "69 Fact Notes\n",
      "70 (a)\n",
      "71 (b)\n",
      "72 (c)\n",
      "73 Value Flags\n",
      "74 -\n",
      "75 D\n",
      "76 F\n",
      "77 FN\n",
      "78 S\n",
      "79 X\n",
      "80 Z\n"
     ]
    }
   ],
   "source": [
    "# to produce an array of the 81 facts/rows recorded for each state/column\n",
    "#census_data['Fact'].unique()\n",
    "\n",
    "for i, v in enumerate(census_data['Fact'].unique()):\n",
    "    print(i, v)"
   ]
  },
  {
   "cell_type": "markdown",
   "metadata": {},
   "source": [
    "## Analysis on the census data"
   ]
  },
  {
   "cell_type": "code",
   "execution_count": 23,
   "metadata": {},
   "outputs": [],
   "source": [
    "# an interesting relationship to examine, is how poverty is related to gun purchases\n",
    "#census_data[census_data['Fact'] == 'Persons in poverty, percent']\n"
   ]
  },
  {
   "cell_type": "code",
   "execution_count": 31,
   "metadata": {},
   "outputs": [
    {
     "data": {
      "text/plain": [
       "20.0"
      ]
     },
     "execution_count": 31,
     "metadata": {},
     "output_type": "execute_result"
    }
   ],
   "source": [
    "census_data.iloc[49,1:].max()"
   ]
  },
  {
   "cell_type": "code",
   "execution_count": 43,
   "metadata": {},
   "outputs": [
    {
     "data": {
      "text/plain": [
       "Alabama           False\n",
       "Alaska            False\n",
       "Arizona           False\n",
       "Arkansas          False\n",
       "California        False\n",
       "Colorado          False\n",
       "Connecticut       False\n",
       "Delaware          False\n",
       "Florida           False\n",
       "Georgia           False\n",
       "Hawaii            False\n",
       "Idaho             False\n",
       "Illinois          False\n",
       "Indiana           False\n",
       "Iowa              False\n",
       "Kansas            False\n",
       "Kentucky          False\n",
       "Louisiana          True\n",
       "Maine             False\n",
       "Maryland          False\n",
       "Massachusetts     False\n",
       "Michigan          False\n",
       "Minnesota         False\n",
       "Mississippi        True\n",
       "Missouri          False\n",
       "Montana           False\n",
       "Nebraska          False\n",
       "Nevada            False\n",
       "New Hampshire     False\n",
       "New Jersey        False\n",
       "New Mexico        False\n",
       "New York          False\n",
       "North Carolina    False\n",
       "North Dakota      False\n",
       "Ohio              False\n",
       "Oklahoma          False\n",
       "Oregon            False\n",
       "Pennsylvania      False\n",
       "Rhode Island      False\n",
       "South Carolina    False\n",
       "South Dakota      False\n",
       "Tennessee         False\n",
       "Texas             False\n",
       "Utah              False\n",
       "Vermont           False\n",
       "Virginia          False\n",
       "Washington        False\n",
       "West Virginia     False\n",
       "Wisconsin         False\n",
       "Wyoming           False\n",
       "Name: 49, dtype: bool"
      ]
     },
     "execution_count": 43,
     "metadata": {},
     "output_type": "execute_result"
    }
   ],
   "source": [
    "# The states with maximum poverty are Louisiana and Mississippi\n",
    "\n",
    "census_data.iloc[49,1:] == 20"
   ]
  },
  {
   "cell_type": "code",
   "execution_count": 44,
   "metadata": {},
   "outputs": [
    {
     "data": {
      "text/plain": [
       "0.0"
      ]
     },
     "execution_count": 44,
     "metadata": {},
     "output_type": "execute_result"
    }
   ],
   "source": [
    "# on the other hand the minimum poverty percent is, which is quite unrealistic\n",
    "census_data.iloc[49,1:].min()"
   ]
  },
  {
   "cell_type": "code",
   "execution_count": 45,
   "metadata": {},
   "outputs": [
    {
     "data": {
      "text/plain": [
       "Alabama           False\n",
       "Alaska            False\n",
       "Arizona           False\n",
       "Arkansas          False\n",
       "California        False\n",
       "Colorado          False\n",
       "Connecticut       False\n",
       "Delaware          False\n",
       "Florida           False\n",
       "Georgia           False\n",
       "Hawaii            False\n",
       "Idaho             False\n",
       "Illinois          False\n",
       "Indiana           False\n",
       "Iowa              False\n",
       "Kansas            False\n",
       "Kentucky          False\n",
       "Louisiana         False\n",
       "Maine             False\n",
       "Maryland          False\n",
       "Massachusetts     False\n",
       "Michigan          False\n",
       "Minnesota         False\n",
       "Mississippi       False\n",
       "Missouri          False\n",
       "Montana           False\n",
       "Nebraska          False\n",
       "Nevada            False\n",
       "New Hampshire     False\n",
       "New Jersey        False\n",
       "New Mexico         True\n",
       "New York           True\n",
       "North Carolina     True\n",
       "North Dakota       True\n",
       "Ohio               True\n",
       "Oklahoma           True\n",
       "Oregon             True\n",
       "Pennsylvania       True\n",
       "Rhode Island       True\n",
       "South Carolina     True\n",
       "South Dakota       True\n",
       "Tennessee          True\n",
       "Texas             False\n",
       "Utah              False\n",
       "Vermont           False\n",
       "Virginia          False\n",
       "Washington        False\n",
       "West Virginia     False\n",
       "Wisconsin         False\n",
       "Wyoming           False\n",
       "Name: 49, dtype: bool"
      ]
     },
     "execution_count": 45,
     "metadata": {},
     "output_type": "execute_result"
    }
   ],
   "source": [
    "# will take New York and Tennessee\n",
    "census_data.iloc[49,1:] == 0"
   ]
  },
  {
   "cell_type": "markdown",
   "metadata": {},
   "source": [
    "########################################################################"
   ]
  },
  {
   "cell_type": "code",
   "execution_count": 46,
   "metadata": {},
   "outputs": [
    {
     "data": {
      "text/html": [
       "<div>\n",
       "<style scoped>\n",
       "    .dataframe tbody tr th:only-of-type {\n",
       "        vertical-align: middle;\n",
       "    }\n",
       "\n",
       "    .dataframe tbody tr th {\n",
       "        vertical-align: top;\n",
       "    }\n",
       "\n",
       "    .dataframe thead th {\n",
       "        text-align: right;\n",
       "    }\n",
       "</style>\n",
       "<table border=\"1\" class=\"dataframe\">\n",
       "  <thead>\n",
       "    <tr style=\"text-align: right;\">\n",
       "      <th></th>\n",
       "      <th>month</th>\n",
       "      <th>state</th>\n",
       "      <th>permit</th>\n",
       "      <th>permit_recheck</th>\n",
       "      <th>handgun</th>\n",
       "      <th>long_gun</th>\n",
       "      <th>other</th>\n",
       "      <th>multiple</th>\n",
       "      <th>admin</th>\n",
       "      <th>prepawn_handgun</th>\n",
       "      <th>...</th>\n",
       "      <th>returned_other</th>\n",
       "      <th>rentals_handgun</th>\n",
       "      <th>rentals_long_gun</th>\n",
       "      <th>private_sale_handgun</th>\n",
       "      <th>private_sale_long_gun</th>\n",
       "      <th>private_sale_other</th>\n",
       "      <th>return_to_seller_handgun</th>\n",
       "      <th>return_to_seller_long_gun</th>\n",
       "      <th>return_to_seller_other</th>\n",
       "      <th>totals</th>\n",
       "    </tr>\n",
       "  </thead>\n",
       "  <tbody>\n",
       "    <tr>\n",
       "      <th>0</th>\n",
       "      <td>2017-09</td>\n",
       "      <td>Alabama</td>\n",
       "      <td>16717.0</td>\n",
       "      <td>0.0</td>\n",
       "      <td>5734.0</td>\n",
       "      <td>6320.0</td>\n",
       "      <td>221.0</td>\n",
       "      <td>317</td>\n",
       "      <td>0.0</td>\n",
       "      <td>15.0</td>\n",
       "      <td>...</td>\n",
       "      <td>0.0</td>\n",
       "      <td>0.0</td>\n",
       "      <td>0.0</td>\n",
       "      <td>9.0</td>\n",
       "      <td>16.0</td>\n",
       "      <td>3.0</td>\n",
       "      <td>0.0</td>\n",
       "      <td>0.0</td>\n",
       "      <td>3.0</td>\n",
       "      <td>32019</td>\n",
       "    </tr>\n",
       "  </tbody>\n",
       "</table>\n",
       "<p>1 rows × 27 columns</p>\n",
       "</div>"
      ],
      "text/plain": [
       "     month    state   permit  permit_recheck  handgun  long_gun  other  \\\n",
       "0  2017-09  Alabama  16717.0             0.0   5734.0    6320.0  221.0   \n",
       "\n",
       "   multiple  admin  prepawn_handgun  ...  returned_other  rentals_handgun  \\\n",
       "0       317    0.0             15.0  ...             0.0              0.0   \n",
       "\n",
       "   rentals_long_gun  private_sale_handgun  private_sale_long_gun  \\\n",
       "0               0.0                   9.0                   16.0   \n",
       "\n",
       "   private_sale_other  return_to_seller_handgun  return_to_seller_long_gun  \\\n",
       "0                 3.0                       0.0                        0.0   \n",
       "\n",
       "   return_to_seller_other  totals  \n",
       "0                     3.0   32019  \n",
       "\n",
       "[1 rows x 27 columns]"
      ]
     },
     "execution_count": 46,
     "metadata": {},
     "output_type": "execute_result"
    }
   ],
   "source": [
    "gun_data = pd.read_excel('/Users/A.R/Desktop/surfer366/1_Coding_HUB/NanoDegree/ncis-and-census-data/gun_data.xlsx')\n",
    "gun_data.head(1)"
   ]
  },
  {
   "cell_type": "code",
   "execution_count": 47,
   "metadata": {
    "scrolled": true
   },
   "outputs": [
    {
     "name": "stdout",
     "output_type": "stream",
     "text": [
      "<class 'pandas.core.frame.DataFrame'>\n",
      "RangeIndex: 12485 entries, 0 to 12484\n",
      "Data columns (total 27 columns):\n",
      " #   Column                     Non-Null Count  Dtype  \n",
      "---  ------                     --------------  -----  \n",
      " 0   month                      12485 non-null  object \n",
      " 1   state                      12485 non-null  object \n",
      " 2   permit                     12461 non-null  float64\n",
      " 3   permit_recheck             1100 non-null   float64\n",
      " 4   handgun                    12465 non-null  float64\n",
      " 5   long_gun                   12466 non-null  float64\n",
      " 6   other                      5500 non-null   float64\n",
      " 7   multiple                   12485 non-null  int64  \n",
      " 8   admin                      12462 non-null  float64\n",
      " 9   prepawn_handgun            10542 non-null  float64\n",
      " 10  prepawn_long_gun           10540 non-null  float64\n",
      " 11  prepawn_other              5115 non-null   float64\n",
      " 12  redemption_handgun         10545 non-null  float64\n",
      " 13  redemption_long_gun        10544 non-null  float64\n",
      " 14  redemption_other           5115 non-null   float64\n",
      " 15  returned_handgun           2200 non-null   float64\n",
      " 16  returned_long_gun          2145 non-null   float64\n",
      " 17  returned_other             1815 non-null   float64\n",
      " 18  rentals_handgun            990 non-null    float64\n",
      " 19  rentals_long_gun           825 non-null    float64\n",
      " 20  private_sale_handgun       2750 non-null   float64\n",
      " 21  private_sale_long_gun      2750 non-null   float64\n",
      " 22  private_sale_other         2750 non-null   float64\n",
      " 23  return_to_seller_handgun   2475 non-null   float64\n",
      " 24  return_to_seller_long_gun  2750 non-null   float64\n",
      " 25  return_to_seller_other     2255 non-null   float64\n",
      " 26  totals                     12485 non-null  int64  \n",
      "dtypes: float64(23), int64(2), object(2)\n",
      "memory usage: 2.6+ MB\n"
     ]
    }
   ],
   "source": [
    "gun_data.info()"
   ]
  },
  {
   "cell_type": "code",
   "execution_count": 48,
   "metadata": {},
   "outputs": [],
   "source": [
    "# to maintain consistency of dtypes of columns\n",
    "gun_data[[\"multiple\", \"totals\"]] = gun_data[[\"multiple\", \"totals\"]].astype(float)"
   ]
  },
  {
   "cell_type": "code",
   "execution_count": 54,
   "metadata": {},
   "outputs": [
    {
     "data": {
      "text/plain": [
       "0"
      ]
     },
     "execution_count": 54,
     "metadata": {},
     "output_type": "execute_result"
    }
   ],
   "source": [
    "# check for duplicates\n",
    "gun_data.duplicated().sum()"
   ]
  },
  {
   "cell_type": "code",
   "execution_count": 49,
   "metadata": {},
   "outputs": [],
   "source": [
    "# Create a loop to fill NA values with the mean for each column \n",
    "col_ = gun_data.iloc[:, 2:].columns\n",
    "for c in col_:\n",
    "    c_mean = gun_data[c].mean()\n",
    "    gun_data[c].fillna(c_mean, inplace = True)"
   ]
  },
  {
   "cell_type": "code",
   "execution_count": 50,
   "metadata": {},
   "outputs": [
    {
     "data": {
      "text/plain": [
       "False"
      ]
     },
     "execution_count": 50,
     "metadata": {},
     "output_type": "execute_result"
    }
   ],
   "source": [
    "# Confirm changes\n",
    "gun_data.isnull().any().any()"
   ]
  },
  {
   "cell_type": "code",
   "execution_count": 51,
   "metadata": {},
   "outputs": [],
   "source": [
    "# Convert the column 'month' from string into datatime dtype\n",
    "gun_data.month = pd.to_datetime(gun_data['month'], errors='coerce')"
   ]
  },
  {
   "cell_type": "code",
   "execution_count": 52,
   "metadata": {},
   "outputs": [
    {
     "data": {
      "text/plain": [
       "pandas._libs.tslibs.timestamps.Timestamp"
      ]
     },
     "execution_count": 52,
     "metadata": {},
     "output_type": "execute_result"
    }
   ],
   "source": [
    "# Confirm changes\n",
    "type(gun_data['month'][0])"
   ]
  },
  {
   "cell_type": "code",
   "execution_count": 153,
   "metadata": {},
   "outputs": [
    {
     "name": "stdout",
     "output_type": "stream",
     "text": [
      "<class 'pandas.core.frame.DataFrame'>\n",
      "RangeIndex: 12485 entries, 0 to 12484\n",
      "Data columns (total 27 columns):\n",
      " #   Column                     Non-Null Count  Dtype         \n",
      "---  ------                     --------------  -----         \n",
      " 0   month                      12485 non-null  datetime64[ns]\n",
      " 1   state                      12485 non-null  object        \n",
      " 2   permit                     12485 non-null  float64       \n",
      " 3   permit_recheck             12485 non-null  float64       \n",
      " 4   handgun                    12485 non-null  float64       \n",
      " 5   long_gun                   12485 non-null  float64       \n",
      " 6   other                      12485 non-null  float64       \n",
      " 7   multiple                   12485 non-null  float64       \n",
      " 8   admin                      12485 non-null  float64       \n",
      " 9   prepawn_handgun            12485 non-null  float64       \n",
      " 10  prepawn_long_gun           12485 non-null  float64       \n",
      " 11  prepawn_other              12485 non-null  float64       \n",
      " 12  redemption_handgun         12485 non-null  float64       \n",
      " 13  redemption_long_gun        12485 non-null  float64       \n",
      " 14  redemption_other           12485 non-null  float64       \n",
      " 15  returned_handgun           12485 non-null  float64       \n",
      " 16  returned_long_gun          12485 non-null  float64       \n",
      " 17  returned_other             12485 non-null  float64       \n",
      " 18  rentals_handgun            12485 non-null  float64       \n",
      " 19  rentals_long_gun           12485 non-null  float64       \n",
      " 20  private_sale_handgun       12485 non-null  float64       \n",
      " 21  private_sale_long_gun      12485 non-null  float64       \n",
      " 22  private_sale_other         12485 non-null  float64       \n",
      " 23  return_to_seller_handgun   12485 non-null  float64       \n",
      " 24  return_to_seller_long_gun  12485 non-null  float64       \n",
      " 25  return_to_seller_other     12485 non-null  float64       \n",
      " 26  totals                     12485 non-null  float64       \n",
      "dtypes: datetime64[ns](1), float64(25), object(1)\n",
      "memory usage: 2.6+ MB\n"
     ]
    }
   ],
   "source": [
    "# all good, dtypes wise\n",
    "gun_data.info()"
   ]
  },
  {
   "cell_type": "markdown",
   "metadata": {},
   "source": [
    "<a id='eda'></a>\n",
    "## Exploratory Data Analysis\n",
    "\n",
    "\n",
    "### Research Question 1 (Is poverty related to gun purchasing patterns?)"
   ]
  },
  {
   "cell_type": "code",
   "execution_count": 56,
   "metadata": {},
   "outputs": [
    {
     "data": {
      "text/plain": [
       "Index(['month', 'state', 'permit', 'permit_recheck', 'handgun', 'long_gun',\n",
       "       'other', 'multiple', 'admin', 'prepawn_handgun', 'prepawn_long_gun',\n",
       "       'prepawn_other', 'redemption_handgun', 'redemption_long_gun',\n",
       "       'redemption_other', 'returned_handgun', 'returned_long_gun',\n",
       "       'returned_other', 'rentals_handgun', 'rentals_long_gun',\n",
       "       'private_sale_handgun', 'private_sale_long_gun', 'private_sale_other',\n",
       "       'return_to_seller_handgun', 'return_to_seller_long_gun',\n",
       "       'return_to_seller_other', 'totals'],\n",
       "      dtype='object')"
      ]
     },
     "execution_count": 56,
     "metadata": {},
     "output_type": "execute_result"
    }
   ],
   "source": [
    "gun_data.columns"
   ]
  },
  {
   "cell_type": "code",
   "execution_count": 62,
   "metadata": {},
   "outputs": [
    {
     "data": {
      "text/plain": [
       "array(['Alabama', 'Alaska', 'Arizona', 'Arkansas', 'California',\n",
       "       'Colorado', 'Connecticut', 'Delaware', 'District of Columbia',\n",
       "       'Florida', 'Georgia', 'Guam', 'Hawaii', 'Idaho', 'Illinois',\n",
       "       'Indiana', 'Iowa', 'Kansas', 'Kentucky', 'Louisiana', 'Maine',\n",
       "       'Mariana Islands', 'Maryland', 'Massachusetts', 'Michigan',\n",
       "       'Minnesota', 'Mississippi', 'Missouri', 'Montana', 'Nebraska',\n",
       "       'Nevada', 'New Hampshire', 'New Jersey', 'New Mexico', 'New York',\n",
       "       'North Carolina', 'North Dakota', 'Ohio', 'Oklahoma', 'Oregon',\n",
       "       'Pennsylvania', 'Puerto Rico', 'Rhode Island', 'South Carolina',\n",
       "       'South Dakota', 'Tennessee', 'Texas', 'Utah', 'Vermont',\n",
       "       'Virgin Islands', 'Virginia', 'Washington', 'West Virginia',\n",
       "       'Wisconsin', 'Wyoming'], dtype=object)"
      ]
     },
     "execution_count": 62,
     "metadata": {},
     "output_type": "execute_result"
    }
   ],
   "source": [
    "gun_data['state'].unique()"
   ]
  },
  {
   "cell_type": "code",
   "execution_count": 70,
   "metadata": {},
   "outputs": [
    {
     "data": {
      "text/plain": [
       "99945.0"
      ]
     },
     "execution_count": 70,
     "metadata": {},
     "output_type": "execute_result"
    }
   ],
   "source": [
    "# About 100,000 over the years, high poverty\n",
    "Missi_ = gun_data[gun_data['state'] == 'Mississippi']\n",
    "Missi_['permit'].sum()"
   ]
  },
  {
   "cell_type": "code",
   "execution_count": 71,
   "metadata": {},
   "outputs": [
    {
     "data": {
      "text/plain": [
       "804474.0"
      ]
     },
     "execution_count": 71,
     "metadata": {},
     "output_type": "execute_result"
    }
   ],
   "source": [
    "# New York has 8 folds more gun permits than Mississippi, low poverty\n",
    "NY_ = gun_data[gun_data['state'] == 'New York']\n",
    "NY_['permit'].sum()"
   ]
  },
  {
   "cell_type": "code",
   "execution_count": 72,
   "metadata": {},
   "outputs": [
    {
     "data": {
      "text/plain": [
       "90789.62940373967"
      ]
     },
     "execution_count": 72,
     "metadata": {},
     "output_type": "execute_result"
    }
   ],
   "source": [
    "# About 90,000 in Louisiana, high poverty\n",
    "Loui_ = gun_data[gun_data['state'] == 'Louisiana']\n",
    "Loui_['permit'].sum()"
   ]
  },
  {
   "cell_type": "code",
   "execution_count": null,
   "metadata": {},
   "outputs": [],
   "source": [
    "# Tennessee has 11 folds more gun permits than Tennessee, Low poverty\n",
    "Tenn_ = gun_data[gun_data['state'] == 'Tennessee']\n",
    "Tenn_['permit'].sum()"
   ]
  },
  {
   "cell_type": "markdown",
   "metadata": {},
   "source": [
    ">It is safe to say that guns are treated as an accessory rather than a neccessity, hence, poorer regions tend to have extremely lower gun permits than rich regions.\n",
    "\n",
    ">Another reason could possibly be the high costs associated with issuing a gun permit."
   ]
  },
  {
   "cell_type": "markdown",
   "metadata": {},
   "source": [
    "### Research Question 2  (What is the most popular type of gun across the states?)"
   ]
  },
  {
   "cell_type": "code",
   "execution_count": 94,
   "metadata": {},
   "outputs": [
    {
     "data": {
      "image/png": "[encoded data removed]",
      "text/plain": [
       "<Figure size 576x576 with 1 Axes>"
      ]
     },
     "metadata": {},
     "output_type": "display_data"
    }
   ],
   "source": [
    "# long_gun a.k.a rifles seem to be the most preferred types of guns in the U.S. \n",
    "# probably because they are used for hunting game\n",
    "gun_data.iloc[:,4:8].sum().plot(kind='pie', figsize=(8,8), title='Gun types purchased in the U.S');"
   ]
  },
  {
   "cell_type": "markdown",
   "metadata": {},
   "source": [
    "<a id='conclusions'></a>\n",
    "## Conclusion\n",
    "\n",
    "> Peope in the U.S. purchase guns mostly for purposes of lesiure and sport\n",
    "> Assuming that regions with high poverty numbers would have increased criminal activity and hence would require to purchase a gun for purposes of self defense; is an invalid argument. This is shown by a comparison between 4 American states.\n",
    "> Limitations to this analysis would be the small scope of the study. In addition to not examining the change of purchase patterns along the dataset time period \n",
    "\n",
    "resources: \n",
    "\n",
    "https://www.pewresearch.org/social-trends/2017/06/22/guns-and-daily-life-identity-experiences-activities-and-involvement/\n",
    "\n",
    "https://injuryprevention.bmj.com/content/6/4/263"
   ]
  },
  {
   "cell_type": "code",
   "execution_count": null,
   "metadata": {
    "collapsed": true
   },
   "outputs": [],
   "source": []
  }
 ],
 "metadata": {
  "kernelspec": {
   "display_name": "Python 3",
   "language": "python",
   "name": "python3"
  },
  "language_info": {
   "codemirror_mode": {
    "name": "ipython",
    "version": 3
   },
   "file_extension": ".py",
   "mimetype": "text/x-python",
   "name": "python",
   "nbconvert_exporter": "python",
   "pygments_lexer": "ipython3",
   "version": "3.8.3"
  }
 },
 "nbformat": 4,
 "nbformat_minor": 2
}
